{
 "cells": [
  {
   "cell_type": "markdown",
   "metadata": {},
   "source": [
    "# LINQ\n",
    "\n",
    "Цель:\n",
    "1. Научиться выполнять операции над наборами данных с помощью LINQ.\n",
    "2. Научиться работать с форматом JSON.\n",
    "\n",
    "Зачем:\n",
    "1. Обработка данных в функциональном стиле позволяет быстро и эффективно получать решения поставленных задач.\n",
    "2. Это самый современный подход при работе со структурами данных, используется на всех платформах и языках, в машинном обучении. "
   ]
  },
  {
   "cell_type": "markdown",
   "metadata": {},
   "source": [
    "Примеры из [статьи](https://habr.com/ru/companies/otus/articles/723438/): "
   ]
  },
  {
   "cell_type": "code",
   "execution_count": 2,
   "metadata": {
    "dotnet_interactive": {
     "language": "csharp"
    },
    "polyglot_notebook": {
     "kernelName": "csharp"
    }
   },
   "outputs": [],
   "source": [
    "class Product\n",
    "{\n",
    "    public int Id { get; set; }\n",
    "    public string Name { get; set; }\n",
    "    public decimal Price { get; set; }\n",
    "}\n",
    "\n",
    "List<Product> products = new List<Product>\n",
    "{\n",
    "    new Product { Id = 1, Name = \"Ноутбук\", Price = 1200 },\n",
    "    new Product { Id = 2, Name = \"Клавиатура\", Price = 80 },\n",
    "    new Product { Id = 3, Name = \"Мышь\", Price = 30 },\n",
    "    new Product { Id = 4, Name = \"Монитор\", Price = 300 }\n",
    "};"
   ]
  },
  {
   "cell_type": "code",
   "execution_count": 3,
   "metadata": {
    "dotnet_interactive": {
     "language": "csharp"
    },
    "polyglot_notebook": {
     "kernelName": "csharp"
    }
   },
   "outputs": [
    {
     "data": {
      "text/html": [
       "<table><thead><tr><th><i>index</i></th><th>value</th></tr></thead><tbody><tr><td>0</td><td><details class=\"dni-treeview\"><summary><span class=\"dni-code-hint\"><code>Submission#3+Product</code></span></summary><div><table><thead><tr></tr></thead><tbody><tr><td>Id</td><td><div class=\"dni-plaintext\"><pre>2</pre></div></td></tr><tr><td>Name</td><td><div class=\"dni-plaintext\"><pre>Клавиатура</pre></div></td></tr><tr><td>Price</td><td><div class=\"dni-plaintext\"><pre>80</pre></div></td></tr></tbody></table></div></details></td></tr><tr><td>1</td><td><details class=\"dni-treeview\"><summary><span class=\"dni-code-hint\"><code>Submission#3+Product</code></span></summary><div><table><thead><tr></tr></thead><tbody><tr><td>Id</td><td><div class=\"dni-plaintext\"><pre>3</pre></div></td></tr><tr><td>Name</td><td><div class=\"dni-plaintext\"><pre>Мышь</pre></div></td></tr><tr><td>Price</td><td><div class=\"dni-plaintext\"><pre>30</pre></div></td></tr></tbody></table></div></details></td></tr></tbody></table><style>\r\n",
       ".dni-code-hint {\r\n",
       "    font-style: italic;\r\n",
       "    overflow: hidden;\r\n",
       "    white-space: nowrap;\r\n",
       "}\r\n",
       ".dni-treeview {\r\n",
       "    white-space: nowrap;\r\n",
       "}\r\n",
       ".dni-treeview td {\r\n",
       "    vertical-align: top;\r\n",
       "    text-align: start;\r\n",
       "}\r\n",
       "details.dni-treeview {\r\n",
       "    padding-left: 1em;\r\n",
       "}\r\n",
       "table td {\r\n",
       "    text-align: start;\r\n",
       "}\r\n",
       "table tr { \r\n",
       "    vertical-align: top; \r\n",
       "    margin: 0em 0px;\r\n",
       "}\r\n",
       "table tr td pre \r\n",
       "{ \r\n",
       "    vertical-align: top !important; \r\n",
       "    margin: 0em 0px !important;\r\n",
       "} \r\n",
       "table th {\r\n",
       "    text-align: start;\r\n",
       "}\r\n",
       "</style>"
      ]
     },
     "metadata": {},
     "output_type": "display_data"
    }
   ],
   "source": [
    "// Можно просто выполнить:\n",
    "from product in products\n",
    "where product.Price < 100\n",
    "select product"
   ]
  },
  {
   "cell_type": "code",
   "execution_count": 7,
   "metadata": {
    "dotnet_interactive": {
     "language": "csharp"
    },
    "polyglot_notebook": {
     "kernelName": "csharp"
    }
   },
   "outputs": [
    {
     "data": {
      "text/html": [
       "<table><thead><tr><th><i>index</i></th><th>value</th></tr></thead><tbody><tr><td>0</td><td><details class=\"dni-treeview\"><summary><span class=\"dni-code-hint\"><code>Submission#3+Product</code></span></summary><div><table><thead><tr></tr></thead><tbody><tr><td>Id</td><td><div class=\"dni-plaintext\"><pre>2</pre></div></td></tr><tr><td>Name</td><td><div class=\"dni-plaintext\"><pre>Клавиатура</pre></div></td></tr><tr><td>Price</td><td><div class=\"dni-plaintext\"><pre>80</pre></div></td></tr></tbody></table></div></details></td></tr><tr><td>1</td><td><details class=\"dni-treeview\"><summary><span class=\"dni-code-hint\"><code>Submission#3+Product</code></span></summary><div><table><thead><tr></tr></thead><tbody><tr><td>Id</td><td><div class=\"dni-plaintext\"><pre>3</pre></div></td></tr><tr><td>Name</td><td><div class=\"dni-plaintext\"><pre>Мышь</pre></div></td></tr><tr><td>Price</td><td><div class=\"dni-plaintext\"><pre>30</pre></div></td></tr></tbody></table></div></details></td></tr></tbody></table><style>\r\n",
       ".dni-code-hint {\r\n",
       "    font-style: italic;\r\n",
       "    overflow: hidden;\r\n",
       "    white-space: nowrap;\r\n",
       "}\r\n",
       ".dni-treeview {\r\n",
       "    white-space: nowrap;\r\n",
       "}\r\n",
       ".dni-treeview td {\r\n",
       "    vertical-align: top;\r\n",
       "    text-align: start;\r\n",
       "}\r\n",
       "details.dni-treeview {\r\n",
       "    padding-left: 1em;\r\n",
       "}\r\n",
       "table td {\r\n",
       "    text-align: start;\r\n",
       "}\r\n",
       "table tr { \r\n",
       "    vertical-align: top; \r\n",
       "    margin: 0em 0px;\r\n",
       "}\r\n",
       "table tr td pre \r\n",
       "{ \r\n",
       "    vertical-align: top !important; \r\n",
       "    margin: 0em 0px !important;\r\n",
       "} \r\n",
       "table th {\r\n",
       "    text-align: start;\r\n",
       "}\r\n",
       "</style>"
      ]
     },
     "metadata": {},
     "output_type": "display_data"
    }
   ],
   "source": [
    "// Можно сохранить результат в переменную:\n",
    "var cheapProducts = from product in products\n",
    "                    where product.Price < 100\n",
    "                    select product;\n",
    "\n",
    "cheapProducts"
   ]
  },
  {
   "cell_type": "code",
   "execution_count": 13,
   "metadata": {
    "dotnet_interactive": {
     "language": "csharp"
    },
    "polyglot_notebook": {
     "kernelName": "csharp"
    }
   },
   "outputs": [
    {
     "data": {
      "text/html": [
       "<table><thead><tr><th><i>index</i></th><th>value</th></tr></thead><tbody><tr><td>0</td><td><details class=\"dni-treeview\"><summary><span class=\"dni-code-hint\"><code>Submission#2+Product</code></span></summary><div><table><thead><tr></tr></thead><tbody><tr><td>Id</td><td><div class=\"dni-plaintext\"><pre>2</pre></div></td></tr><tr><td>Name</td><td><div class=\"dni-plaintext\"><pre>Клавиатура</pre></div></td></tr><tr><td>Price</td><td><div class=\"dni-plaintext\"><pre>80</pre></div></td></tr></tbody></table></div></details></td></tr><tr><td>1</td><td><details class=\"dni-treeview\"><summary><span class=\"dni-code-hint\"><code>Submission#2+Product</code></span></summary><div><table><thead><tr></tr></thead><tbody><tr><td>Id</td><td><div class=\"dni-plaintext\"><pre>3</pre></div></td></tr><tr><td>Name</td><td><div class=\"dni-plaintext\"><pre>Мышь</pre></div></td></tr><tr><td>Price</td><td><div class=\"dni-plaintext\"><pre>30</pre></div></td></tr></tbody></table></div></details></td></tr></tbody></table><style>\r\n",
       ".dni-code-hint {\r\n",
       "    font-style: italic;\r\n",
       "    overflow: hidden;\r\n",
       "    white-space: nowrap;\r\n",
       "}\r\n",
       ".dni-treeview {\r\n",
       "    white-space: nowrap;\r\n",
       "}\r\n",
       ".dni-treeview td {\r\n",
       "    vertical-align: top;\r\n",
       "    text-align: start;\r\n",
       "}\r\n",
       "details.dni-treeview {\r\n",
       "    padding-left: 1em;\r\n",
       "}\r\n",
       "table td {\r\n",
       "    text-align: start;\r\n",
       "}\r\n",
       "table tr { \r\n",
       "    vertical-align: top; \r\n",
       "    margin: 0em 0px;\r\n",
       "}\r\n",
       "table tr td pre \r\n",
       "{ \r\n",
       "    vertical-align: top !important; \r\n",
       "    margin: 0em 0px !important;\r\n",
       "} \r\n",
       "table th {\r\n",
       "    text-align: start;\r\n",
       "}\r\n",
       "</style>"
      ]
     },
     "metadata": {},
     "output_type": "display_data"
    }
   ],
   "source": [
    "// Синтаксис методов\n",
    "\n",
    "products.Where(p => p.Price < 100)"
   ]
  },
  {
   "cell_type": "markdown",
   "metadata": {},
   "source": [
    "# Задание 3\n",
    "\n",
    "## Часть 1\n",
    "В задании 1 заменить императивные элементы на LINQ\n"
   ]
  },
  {
   "cell_type": "markdown",
   "metadata": {},
   "source": [
    "## Часть 2\n",
    "1. Изучите руководство по LINQ https://docs.microsoft.com/ru-ru/dotnet/csharp/linq/\n",
    "Не только Обзор, который открывается по ссылке, но и весь раздел LINQ\n",
    "2. Обязательно нужно ознакомиться с функциями-расширениями https://docs.microsoft.com/ru-ru/dotnet/csharp/programming-guide/classes-and-structs/extension-methods. Весь LINQ построен на функциях-расширениях.\n",
    "3. Изучите статью по JSON: https://habr.com/ru/articles/554274/\n",
    "4. Добавить зависимость Newtonsoft.Json \n",
    "    1. https://learn.microsoft.com/ru-ru/dotnet/core/tools/dotnet-add-package\n",
    "    2. https://github.com/dotnet/interactive/blob/main/docs/magic-commands.md#c-kernel\n",
    "    3. https://www.nuget.org/packages/Newtonsoft.Json/\n",
    "5. Ознакомиться с примерами работы с библиотекой Newtonsoft.Json https://www.newtonsoft.com/json/help/html/FromObject.htm#\n",
    "\n",
    "6. Предположим, что экзаменационная ведомость содержит следующие сведения о студентах:\n",
    "    1. Имя\n",
    "    2. Группа\n",
    "    3. Дисциплина\n",
    "    4. Оценка\n",
    "\n",
    "\n",
    "| Name  | Group  |  Discipline | Mark  |\n",
    "|---|---|---|---|\n",
    "| Cadet1 | SC-991 | Programming | 5 |\n",
    "| Cadet2 | SC-991 | Programming | 3 |\n",
    "| Cadet1 | SC-991 | Algebra     | 5 |\n",
    "| Cadet2 | SC-991 | Algebra     | 4 |\n",
    "| Cadet3 | SC-992 | Programming | 4 |\n",
    "| Cadet4 | SC-992 | Programming | 5 |\n",
    "| Cadet3 | SC-992 | Algebra     | 3 |\n",
    "| Cadet4 | SC-992 | Algebra     | 5 |\n",
    "\n",
    "\n",
    "7. Решить следующие задачи:\n",
    "    1. Определить студента/студентов с максимальным средним баллом. (\"taskName\": \"GetStudentsWithHighestGPA\")\n",
    "    Пример: https://pastes.io/qxur8yardo\n",
    "\n",
    "    2. Вычислить средний балл по каждому предмету. (\"taskName\": \"CalculateGPAByDiscipline\")\n",
    "    Пример: https://pastes.io/zmspfvpzzx\n",
    "\n",
    "    3. По каждому предмету определить группу с лучшим средним баллом. (\"taskName\": \"GetBestGroupsByDiscipline\")\n",
    "    Пример: https://pastes.io/z9txezxfsc\n",
    "\n",
    "\n",
    "8. На входе два аргумента:\n",
    "    - Путь к файлу с JSON’ом в текстовом виде, откуда нужно считать тип задачи и данные (входной файл)\n",
    "    - Путь к файлу, куда нужно записать результат (выходной файл)\n",
    "    - Важно! Формат входного и выходного файла можно увидеть в примерах."
   ]
  }
 ],
 "metadata": {
  "kernelspec": {
   "display_name": ".NET (C#)",
   "language": "C#",
   "name": ".net-csharp"
  },
  "language_info": {
   "name": "polyglot-notebook"
  },
  "polyglot_notebook": {
   "kernelInfo": {
    "defaultKernelName": "csharp",
    "items": [
     {
      "aliases": [],
      "languageName": "csharp",
      "name": "csharp"
     }
    ]
   }
  }
 },
 "nbformat": 4,
 "nbformat_minor": 2
}
