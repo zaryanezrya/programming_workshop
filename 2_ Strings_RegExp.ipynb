{
 "cells": [
  {
   "cell_type": "markdown",
   "metadata": {},
   "source": [
    "# Строки"
   ]
  },
  {
   "cell_type": "markdown",
   "metadata": {},
   "source": [
    "## What is a String?\n",
    "A string is a sequence of characters. A handy metaphor is a friendship bracelet, where you string together letters to make a name."
   ]
  },
  {
   "cell_type": "markdown",
   "metadata": {},
   "source": [
    "## Strings and String Literals\n",
    "`firstFriend` and `secondFriend` are variables of strings. The line within Console.WriteLine is also a string. It's a string literal. A string literal is text what represents a constant string."
   ]
  },
  {
   "cell_type": "code",
   "execution_count": 22,
   "metadata": {
    "dotnet_interactive": {
     "language": "csharp"
    },
    "polyglot_notebook": {
     "kernelName": "csharp"
    }
   },
   "outputs": [
    {
     "name": "stdout",
     "output_type": "stream",
     "text": [
      "My friends are Maria and Sophia\n"
     ]
    }
   ],
   "source": [
    "string firstFriend = \"Maria\";\n",
    "string secondFriend = \"Sophia\";\n",
    "Console.WriteLine($\"My friends are {firstFriend} and {secondFriend}\");"
   ]
  },
  {
   "cell_type": "markdown",
   "metadata": {},
   "source": [
    "## String Properties\n",
    "As you explore more with strings, you'll find that strings are more than a collection of letters. You can find the length of a string using `Length`. `Length` is a property of a string and it returns the number of characters in that string."
   ]
  },
  {
   "cell_type": "code",
   "execution_count": 23,
   "metadata": {
    "dotnet_interactive": {
     "language": "csharp"
    },
    "polyglot_notebook": {
     "kernelName": "csharp"
    }
   },
   "outputs": [
    {
     "name": "stdout",
     "output_type": "stream",
     "text": [
      "The name Maria has 5 letters.\n",
      "The name Sophia has 6 letters.\n"
     ]
    }
   ],
   "source": [
    "Console.WriteLine($\"The name {firstFriend} has {firstFriend.Length} letters.\");\n",
    "Console.WriteLine($\"The name {secondFriend} has {secondFriend.Length} letters.\");"
   ]
  },
  {
   "cell_type": "markdown",
   "metadata": {},
   "source": [
    "## String Methods\n",
    "### Leading and Trailing Spaces\n",
    "\n",
    "Suppose your strings have leading or trailing spaces (also called `white space`) that you don't want to display. You want to trim the spaces from the strings. The `Trim` method and related methods `TrimStart` and `TrimEnd` do that work. You can just use those methods to remove leading and trailing spaces."
   ]
  },
  {
   "cell_type": "code",
   "execution_count": 24,
   "metadata": {
    "dotnet_interactive": {
     "language": "csharp"
    },
    "polyglot_notebook": {
     "kernelName": "csharp"
    }
   },
   "outputs": [
    {
     "name": "stdout",
     "output_type": "stream",
     "text": [
      "[      Hello World!       ]\n",
      "[Hello World!       ]\n",
      "[      Hello World!]\n",
      "[Hello World!]\n"
     ]
    }
   ],
   "source": [
    "string greeting = \"      Hello World!       \";\n",
    "Console.WriteLine($\"[{greeting}]\");\n",
    "\n",
    "string trimmedGreeting = greeting.TrimStart();\n",
    "Console.WriteLine($\"[{trimmedGreeting}]\");\n",
    "\n",
    "trimmedGreeting = greeting.TrimEnd();\n",
    "Console.WriteLine($\"[{trimmedGreeting}]\");\n",
    "\n",
    "trimmedGreeting = greeting.Trim();\n",
    "Console.WriteLine($\"[{trimmedGreeting}]\");"
   ]
  },
  {
   "cell_type": "markdown",
   "metadata": {},
   "source": [
    "### Changing Case\n",
    "Sometimes you need your strings to be all UPPERCASE or all lowercase. `ToUpper` and `ToLower` do just that.\n",
    "\n",
    "The following example seems a bit mixed up. Can you fix it so \"whisper\" is all lowercase, and \"shout\" is all uppercase?"
   ]
  },
  {
   "cell_type": "code",
   "execution_count": 25,
   "metadata": {
    "dotnet_interactive": {
     "language": "csharp"
    },
    "polyglot_notebook": {
     "kernelName": "csharp"
    }
   },
   "outputs": [
    {
     "name": "stdout",
     "output_type": "stream",
     "text": [
      "WHISPER\n",
      "shout\n"
     ]
    }
   ],
   "source": [
    "Console.WriteLine(\"WhiSPer\".ToUpper());\n",
    "Console.WriteLine(\"sHoUt\".ToLower());"
   ]
  },
  {
   "cell_type": "markdown",
   "metadata": {},
   "source": [
    "## Playground\n",
    "Now it's your turn to play around with what you've learned. Try these exercises:\n",
    "\n",
    "Create three variables of three different people.\n",
    "\n",
    "Find the length of the first person, make the second person all caps, and the third person all lowercase.\n",
    "\n",
    "How many letters are in \"supercalifragilisticexpialidocious\"?\n",
    "\n",
    "How many characters are taken out when you trim \" friendship bracelet \"? Does trimming take out the center space?\n",
    "\n",
    "What do you want to write?"
   ]
  },
  {
   "cell_type": "code",
   "execution_count": null,
   "metadata": {
    "dotnet_interactive": {
     "language": "csharp"
    },
    "polyglot_notebook": {
     "kernelName": "csharp"
    }
   },
   "outputs": [],
   "source": [
    "// решение"
   ]
  },
  {
   "cell_type": "markdown",
   "metadata": {},
   "source": [
    "# Searching Strings"
   ]
  },
  {
   "cell_type": "markdown",
   "metadata": {},
   "source": [
    "## Contains\n",
    "\n",
    "Does your string contain another string within it? You can use Contains to find out! The Contains method returns a boolean. That's a type represented by the keyword bool that can hold two values: true or false. In this case, the method returns true when sought string is found, and false when it's not found."
   ]
  },
  {
   "cell_type": "code",
   "execution_count": 39,
   "metadata": {
    "dotnet_interactive": {
     "language": "csharp"
    },
    "polyglot_notebook": {
     "kernelName": "csharp"
    }
   },
   "outputs": [
    {
     "name": "stdout",
     "output_type": "stream",
     "text": [
      "True\n",
      "False\n"
     ]
    }
   ],
   "source": [
    "string songLyrics = \"You say goodbye, and I say hello\";\n",
    "Console.WriteLine(songLyrics.Contains(\"goodbye\"));\n",
    "Console.WriteLine(songLyrics.Contains(\"greetings\"));"
   ]
  },
  {
   "cell_type": "markdown",
   "metadata": {},
   "source": [
    "## StartsWith and EndsWith\n",
    "StartsWith and EndsWith are methods similar to Contains, but more specific. They tell you if a string starts with or ends with the string you're checking. It has the same structure as Contains, that is: bigstring.StartsWith(substring)\n",
    "\n",
    "Now you try! In the following code, try searching the line to see if it starts with \"you\" or \"I\". Next, see if the code ends with \"hello\" or \"goodbye\"."
   ]
  },
  {
   "cell_type": "code",
   "execution_count": 42,
   "metadata": {
    "dotnet_interactive": {
     "language": "csharp"
    },
    "polyglot_notebook": {
     "kernelName": "csharp"
    }
   },
   "outputs": [
    {
     "data": {
      "text/html": [
       "<div class=\"dni-plaintext\"><pre>False</pre></div><style>\r\n",
       ".dni-code-hint {\r\n",
       "    font-style: italic;\r\n",
       "    overflow: hidden;\r\n",
       "    white-space: nowrap;\r\n",
       "}\r\n",
       ".dni-treeview {\r\n",
       "    white-space: nowrap;\r\n",
       "}\r\n",
       ".dni-treeview td {\r\n",
       "    vertical-align: top;\r\n",
       "    text-align: start;\r\n",
       "}\r\n",
       "details.dni-treeview {\r\n",
       "    padding-left: 1em;\r\n",
       "}\r\n",
       "table td {\r\n",
       "    text-align: start;\r\n",
       "}\r\n",
       "table tr { \r\n",
       "    vertical-align: top; \r\n",
       "    margin: 0em 0px;\r\n",
       "}\r\n",
       "table tr td pre \r\n",
       "{ \r\n",
       "    vertical-align: top !important; \r\n",
       "    margin: 0em 0px !important;\r\n",
       "} \r\n",
       "table th {\r\n",
       "    text-align: start;\r\n",
       "}\r\n",
       "</style>"
      ]
     },
     "metadata": {},
     "output_type": "display_data"
    }
   ],
   "source": [
    "string songLyrics = \"You say goodbye, and I say hello\";\n",
    "songLyrics.StartsWith(\"Youh\")"
   ]
  },
  {
   "cell_type": "code",
   "execution_count": null,
   "metadata": {
    "dotnet_interactive": {
     "language": "csharp"
    },
    "polyglot_notebook": {
     "kernelName": "csharp"
    }
   },
   "outputs": [],
   "source": [
    "string a = \"asd\";\n",
    "string b = \"qwe\";\n",
    "\n",
    "a = a + b;\n"
   ]
  },
  {
   "cell_type": "code",
   "execution_count": 38,
   "metadata": {
    "dotnet_interactive": {
     "language": "csharp"
    },
    "polyglot_notebook": {
     "kernelName": "csharp"
    }
   },
   "outputs": [
    {
     "data": {
      "text/plain": [
       "basdasdas"
      ]
     },
     "metadata": {},
     "output_type": "display_data"
    }
   ],
   "source": [
    "StringBuilder sb = new StringBuilder(\"asdasd\");\n",
    "\n",
    "sb.Append(\"as\");\n",
    "// sb.Capacity;\n",
    "\n",
    "sb.Insert(0, 'b');\n",
    "sb.ToString()"
   ]
  },
  {
   "cell_type": "markdown",
   "metadata": {},
   "source": [
    "# Регулярные выражения"
   ]
  },
  {
   "cell_type": "markdown",
   "metadata": {},
   "source": [
    "## Пример 1: Замена подстрок\n",
    "\n",
    "Предположим, что список рассылки содержит имена, в которые иногда входит обращение (Mr., Mrs., Miss или Ms.) в дополнение к имени и фамилии. Предположим, вы не хотите включать названия при создании конвертных наклеек из списка. В этом случае можно использовать регулярное выражение для удаления заголовков, как показано в следующем примере:"
   ]
  },
  {
   "cell_type": "code",
   "execution_count": 46,
   "metadata": {
    "dotnet_interactive": {
     "language": "csharp"
    },
    "polyglot_notebook": {
     "kernelName": "csharp"
    }
   },
   "outputs": [
    {
     "name": "stdout",
     "output_type": "stream",
     "text": [
      "123HENRY HUNT\n",
      "123SARA SAMUELS\n",
      "ABRAHAM ADAMS\n",
      "123NICOLE NORRIS\n"
     ]
    }
   ],
   "source": [
    "using System.Text.RegularExpressions;\n",
    " \n",
    "string pattern = \"(Mr\\\\.? |Mrs\\\\.? |Miss |Ms\\\\.? )\";\n",
    "string[] names = { \"Mr. Henry Hunt\", \"Ms. Sara Samuels\",\n",
    "                         \"Abraham Adams\", \"Ms. Nicole Norris\" };\n",
    "\n",
    "foreach (string name in names)\n",
    "    Console.WriteLine(Regex.Replace(name, pattern, \"123\").ToUpper());"
   ]
  },
  {
   "cell_type": "code",
   "execution_count": 43,
   "metadata": {
    "dotnet_interactive": {
     "language": "csharp"
    },
    "polyglot_notebook": {
     "kernelName": "csharp"
    }
   },
   "outputs": [
    {
     "name": "stdout",
     "output_type": "stream",
     "text": [
      "String empty:;\n"
     ]
    }
   ],
   "source": [
    "Console.WriteLine($\"String empty:{String.Empty};\");"
   ]
  },
  {
   "cell_type": "markdown",
   "metadata": {},
   "source": [
    "Шаблон (Mr\\.? |Mrs\\.? |Miss |Ms\\.? ) регулярного выражения соответствует любому вхождениям \"Mr\", \"Mr. \", \"Mrs\", \"Mrs. \", \"Miss\", \"Ms\" или \"Ms. \". После вызова метода Regex.Replace сопоставленная строка заменяется на String.Empty; другими словами, она удаляется из исходной строки."
   ]
  },
  {
   "cell_type": "markdown",
   "metadata": {},
   "source": [
    "# Пример 2: Поиск повторяющихся слов"
   ]
  },
  {
   "cell_type": "markdown",
   "metadata": {},
   "source": [
    "Случайный повтор слов — это распространенная ошибка при написании текстов. Используйте регулярное выражение для идентификации повторяющихся слов, как показано в следующем примере:"
   ]
  },
  {
   "cell_type": "code",
   "execution_count": 51,
   "metadata": {
    "dotnet_interactive": {
     "language": "csharp"
    },
    "polyglot_notebook": {
     "kernelName": "csharp"
    }
   },
   "outputs": [
    {
     "name": "stdout",
     "output_type": "stream",
     "text": [
      "This this (duplicates 'This') at position 0\n",
      "a a (duplicates 'a') at position 66\n"
     ]
    }
   ],
   "source": [
    "string pattern = @\"\\b(\\w+?)\\s\\1\\b\";\n",
    "string input = \"This this is a nice day. What about this? This tastes good. I saw a a dog.\";\n",
    "\n",
    "foreach (Match match in Regex.Matches(input, pattern, RegexOptions.IgnoreCase))\n",
    "      Console.WriteLine(\"{0} (duplicates '{1}') at position {2}\",\n",
    "                           match.Value, match.Groups[1].Value, match.Index);\n",
    "   "
   ]
  },
  {
   "cell_type": "code",
   "execution_count": 48,
   "metadata": {
    "dotnet_interactive": {
     "language": "csharp"
    },
    "polyglot_notebook": {
     "kernelName": "csharp"
    }
   },
   "outputs": [
    {
     "name": "stdout",
     "output_type": "stream",
     "text": [
      "1\\t2\\n3\\r4\n"
     ]
    }
   ],
   "source": [
    "var a = @\"1\\t2\\n3\\r4\";\n",
    "\n",
    "Console.WriteLine(a);"
   ]
  },
  {
   "cell_type": "markdown",
   "metadata": {},
   "source": [
    "# Задание 2\n",
    "## Часть 1.\n",
    "Провести 2 эксперимента: (для string и StringBuilder): \n",
    "1. Создать строку длиной 10 символов\n",
    "2. Запустить цикл от 0 до 1000000, на каждой итерации i-й(mod10) символ меняется на случайный\n",
    "3. Вывести время выполнения\n",
    "\n",
    "## Часть 2.\n",
    "Проверить, что строка содержит время в 24-часовом формате.\n",
    "\n",
    "## Часть 3.\n",
    "Проверить, что строка содержит корректный адрес электронной почты:\n",
    "1. В никнейме содержатся буквы, цифры, дефисы, нижние подчеркивания\n",
    "2. Домен может быть любого уровня > 1. [Допустимые имена](https://learn.microsoft.com/ru-ru/troubleshoot/windows-server/active-directory/naming-conventions-for-computer-domain-site-ou#:~:text=%D0%98%D0%BC%D0%B5%D0%BD%D0%B0%20%D1%83%D0%B7%D0%BB%D0%BE%D0%B2%20DNS-,%D0%94%D0%BE%D0%BF%D1%83%D1%81%D1%82%D0%B8%D0%BC%D1%8B%D0%B5%20%D1%81%D0%B8%D0%BC%D0%B2%D0%BE%D0%BB%D1%8B%3A%20DNS%2D%D0%B8%D0%BC%D0%B5%D0%BD%D0%B0%20%D0%BC%D0%BE%D0%B3%D1%83%D1%82%20%D1%81%D0%BE%D0%B4%D0%B5%D1%80%D0%B6%D0%B0%D1%82%D1%8C%20%D1%82%D0%BE%D0%BB%D1%8C%D0%BA%D0%BE%20%D0%B0%D0%BB%D1%84%D0%B0%D0%B2%D0%B8%D1%82%D0%BD%D1%8B%D0%B5%20%D1%81%D0%B8%D0%BC%D0%B2%D0%BE%D0%BB%D1%8B%20(A%E2%80%93Z)%2C%20%D1%87%D0%B8%D1%81%D0%BB%D0%BE%D0%B2%D1%8B%D0%B5%20%D1%81%D0%B8%D0%BC%D0%B2%D0%BE%D0%BB%D1%8B%20(0%E2%80%939)%2C%20%D0%B7%D0%BD%D0%B0%D0%BA%20%D0%BC%D0%B8%D0%BD%D1%83%D1%81%20(%2D)%20%D0%B8%20%D1%82%D0%BE%D1%87%D0%BA%D1%83%20(.).%20%D0%A1%D0%B8%D0%BC%D0%B2%D0%BE%D0%BB%D1%8B%20%D1%82%D0%BE%D1%87%D0%BA%D0%B8%20%D0%B4%D0%BE%D0%BF%D1%83%D1%81%D0%BA%D0%B0%D1%8E%D1%82%D1%81%D1%8F%20%D1%82%D0%BE%D0%BB%D1%8C%D0%BA%D0%BE%20%D0%B2%20%D1%82%D0%BE%D0%BC%20%D1%81%D0%BB%D1%83%D1%87%D0%B0%D0%B5%2C%20%D0%B5%D1%81%D0%BB%D0%B8%20%D0%BE%D0%BD%D0%B8%20%D0%B8%D1%81%D0%BF%D0%BE%D0%BB%D1%8C%D0%B7%D1%83%D1%8E%D1%82%D1%81%D1%8F%20%D0%B4%D0%BB%D1%8F%20%D1%80%D0%B0%D0%B7%D0%B4%D0%B5%D0%BB%D0%B5%D0%BD%D0%B8%D1%8F%20%D0%BA%D0%BE%D0%BC%D0%BF%D0%BE%D0%BD%D0%B5%D0%BD%D1%82%D0%BE%D0%B2%20%D0%B8%D0%BC%D0%B5%D0%BD%20%D1%81%D1%82%D0%B8%D0%BB%D0%B5%D0%B9%20%D0%B4%D0%BE%D0%BC%D0%B5%D0%BD%D0%BE%D0%B2.,-%D0%A1%D0%B8%D1%81%D1%82%D0%B5%D0%BC%D0%B0%20%D0%B4%D0%BE%D0%BC%D0%B5%D0%BD%D0%BD%D1%8B%D1%85%20%D0%B8%D0%BC%D0%B5%D0%BD)"
   ]
  }
 ],
 "metadata": {
  "kernelspec": {
   "display_name": ".NET (C#)",
   "language": "C#",
   "name": ".net-csharp"
  },
  "language_info": {
   "name": "polyglot-notebook"
  },
  "polyglot_notebook": {
   "kernelInfo": {
    "defaultKernelName": "csharp",
    "items": [
     {
      "aliases": [],
      "languageName": "csharp",
      "name": "csharp"
     }
    ]
   }
  }
 },
 "nbformat": 4,
 "nbformat_minor": 2
}
